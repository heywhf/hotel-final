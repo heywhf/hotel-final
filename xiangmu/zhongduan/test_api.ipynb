{
 "cells": [
  {
   "cell_type": "code",
   "execution_count": 7,
   "metadata": {},
   "outputs": [],
   "source": [
    "#加载库\n",
    "import requests\n",
    "import json"
   ]
  },
  {
   "cell_type": "code",
   "execution_count": 30,
   "metadata": {},
   "outputs": [],
   "source": [
    "#获取测试账号token\n",
    "data = {\n",
    "            'username': '222',\n",
    "            'password': '222',\n",
    "            'role': 'manager'\n",
    "}\n",
    "response = requests.post(f'http://127.0.0.1:5000/login',\n",
    "                                 json=data\n",
    "                                 )\n",
    "token = json.loads(response.content)['token']\n",
    "headers = {\n",
    "            'Authorization': 'Bearer ' + token\n",
    "        }"
   ]
  },
  {
   "cell_type": "code",
   "execution_count": 36,
   "metadata": {},
   "outputs": [
    {
     "data": {
      "text/plain": [
       "{'acMode': 'HEAT',\n",
       " 'acTemperature': 25,\n",
       " 'checkInTime': None,\n",
       " 'consumption': 0.0,\n",
       " 'customerSessionID': None,\n",
       " 'fanSpeed': 'MEDIUM',\n",
       " 'firstRunTime': None,\n",
       " 'initialTemperature': 18.0,\n",
       " 'maxTemperature': 30,\n",
       " 'minTemperature': 16,\n",
       " 'occupied': False,\n",
       " 'queueState': 'IDLE',\n",
       " 'roomDescription': '双床房',\n",
       " 'roomDetails': None,\n",
       " 'roomID': 2,\n",
       " 'roomName': '222',\n",
       " 'roomTemperature': 18.0,\n",
       " 'timeLeft': None,\n",
       " 'unitPrice': 200.0}"
      ]
     },
     "execution_count": 36,
     "metadata": {},
     "output_type": "execute_result"
    }
   ],
   "source": [
    "#测试rooms接口\n",
    "res = json.loads(requests.get('http://127.0.0.1:5000/rooms',headers=headers).content)\n",
    "res['roomsInfo'][1]"
   ]
  },
  {
   "cell_type": "code",
   "execution_count": 10,
   "metadata": {},
   "outputs": [
    {
     "data": {
      "text/plain": [
       "{'msg': '创建成功'}"
      ]
     },
     "execution_count": 10,
     "metadata": {},
     "output_type": "execute_result"
    }
   ],
   "source": [
    "#测试room/create接口\n",
    "room_create_data = {\n",
    "    'roomName':'222',\n",
    "    'roomDescription':'双床房',\n",
    "    'unitPrice':200\n",
    "}\n",
    "response = requests.post('http://127.0.0.1:5000/room/create',\n",
    "              json=room_create_data,\n",
    "              headers=headers)\n",
    "json.loads(response.content)"
   ]
  },
  {
   "cell_type": "code",
   "execution_count": 16,
   "metadata": {},
   "outputs": [
    {
     "data": {
      "text/plain": [
       "{'msg': '创建成功'}"
      ]
     },
     "execution_count": 16,
     "metadata": {},
     "output_type": "execute_result"
    }
   ],
   "source": [
    "#测试checkin接口\n",
    "check_in_data = {\n",
    "    'username':'333',\n",
    "    'password':'333',\n",
    "    'roomName':'222',\n",
    "    'role':'customer'\n",
    "}\n",
    "response = requests.post('http://127.0.0.1:5000/check-in',\n",
    "              json=check_in_data,\n",
    "              headers=headers)\n",
    "json.loads(response.content)"
   ]
  },
  {
   "cell_type": "code",
   "execution_count": 17,
   "metadata": {},
   "outputs": [
    {
     "data": {
      "text/plain": [
       "{'accounts': [{'checkInTime': None,\n",
       "   'consumption': 0.0,\n",
       "   'createTime': 'Sat, 16 Dec 2023 15:17:11 GMT',\n",
       "   'idCard': '66666',\n",
       "   'phoneNumber': '13w3252',\n",
       "   'role': 'customer',\n",
       "   'roomDescription': '大床房',\n",
       "   'roomName': '211',\n",
       "   'username': '111'},\n",
       "  {'checkInTime': None,\n",
       "   'consumption': None,\n",
       "   'createtime': 'Sat, 16 Dec 2023 15:17:11 GMT',\n",
       "   'idCard': None,\n",
       "   'phoneNumber': None,\n",
       "   'role': 'manager',\n",
       "   'roomDescription': None,\n",
       "   'roomName': None,\n",
       "   'username': '222'},\n",
       "  {'checkInTime': 'Sat, 16 Dec 2023 19:25:30 GMT',\n",
       "   'consumption': 0.0,\n",
       "   'createTime': 'Sat, 16 Dec 2023 19:25:30 GMT',\n",
       "   'idCard': None,\n",
       "   'phoneNumber': None,\n",
       "   'role': 'customer',\n",
       "   'roomDescription': '双床房',\n",
       "   'roomName': '222',\n",
       "   'username': '333'}]}"
      ]
     },
     "execution_count": 17,
     "metadata": {},
     "output_type": "execute_result"
    }
   ],
   "source": [
    "#测试/accounts接口\n",
    "response = requests.get('http://127.0.0.1:5000/accounts',\n",
    "              headers=headers)\n",
    "json.loads(response.content)"
   ]
  },
  {
   "cell_type": "code",
   "execution_count": 35,
   "metadata": {},
   "outputs": [
    {
     "data": {
      "text/plain": [
       "{'msg': '退房成功'}"
      ]
     },
     "execution_count": 35,
     "metadata": {},
     "output_type": "execute_result"
    }
   ],
   "source": [
    "#测试checkout接口\n",
    "check_out_data = {\n",
    "    'roomName':'222',\n",
    "}\n",
    "response = requests.post('http://127.0.0.1:5000/check-out',\n",
    "              json=check_out_data,\n",
    "              headers=headers)\n",
    "json.loads(response.content)"
   ]
  }
 ],
 "metadata": {
  "kernelspec": {
   "display_name": "Python 3",
   "language": "python",
   "name": "python3"
  },
  "language_info": {
   "codemirror_mode": {
    "name": "ipython",
    "version": 3
   },
   "file_extension": ".py",
   "mimetype": "text/x-python",
   "name": "python",
   "nbconvert_exporter": "python",
   "pygments_lexer": "ipython3",
   "version": "3.9.7"
  }
 },
 "nbformat": 4,
 "nbformat_minor": 2
}
